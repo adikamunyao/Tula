{
 "cells": [
  {
   "cell_type": "markdown",
   "id": "6a5d8267-a1f1-4214-a708-b948f6d52845",
   "metadata": {},
   "source": [
    "1. Collect a Dataset\n",
    "2. Preprocess the Dataset:\n",
    "3. GAN Model Selection\n",
    ">* DCGAN\n",
    ">* StyleGAN.\n",
    "3. Data Preparation\n",
    ">* generator dataset (images to emulate)\n",
    ">* discriminator dataset (images that are not part of the generator dataset).\n",
    "4. GAN Training: Train the GAN model. \n",
    "5. Unique Image Generation\n",
    ">* introduce random noise or variations into the input to the generator.\n",
    "6. Evaluation\n",
    "7. Adjust Hyperparameters"
   ]
  },
  {
   "cell_type": "code",
   "execution_count": null,
   "id": "d509a9ba-10aa-428d-9fa9-7ab3f354c9b1",
   "metadata": {},
   "outputs": [],
   "source": [
    "import os\n",
    "import cv2\n",
    "import numpy as np\n",
    "import matplotlib.pyplot as plt\n",
    "from sklearn.model_selection import train_test_split\n",
    "from tensorflow.keras.preprocessing.image import load_img, img_to_array\n"
   ]
  },
  {
   "cell_type": "markdown",
   "id": "f08252b8",
   "metadata": {},
   "source": [
    "<b>Load Data</b>"
   ]
  },
  {
   "cell_type": "code",
   "execution_count": null,
   "id": "5cd9abfb",
   "metadata": {},
   "outputs": [],
   "source": [
    "# List of subfolders containing flower categories\n",
    "subfolders = [\n",
    "    # \"./Data/flower_photos/daisy\",\n",
    "    #\"./Data/flower_photos/dandelion\",\n",
    "    \"./Data/flower_photos/roses\",\n",
    "    #\"./Data/flower_photos/sunflowers\",\n",
    "    #\"./Data/flower_photos/tulips\"\n",
    "]\n"
   ]
  },
  {
   "cell_type": "markdown",
   "id": "bd91b4bd-9bff-4509-b09e-d398943f7a97",
   "metadata": {},
   "source": [
    "> <b>Display samples</b> "
   ]
  },
  {
   "cell_type": "code",
   "execution_count": null,
   "id": "ff1aefc4-27f7-4fd9-ad3d-ddbba66a0db1",
   "metadata": {},
   "outputs": [],
   "source": [
    "# Display sample images from each subfolder\n",
    "num_samples_per_class = 3\n",
    "plt.figure(figsize=(12, 10))\n",
    "\n",
    "for i, subfolder in enumerate(subfolders):\n",
    "    class_name = os.path.basename(subfolder)\n",
    "    image_files = os.listdir(subfolder)[:num_samples_per_class]\n",
    "\n",
    "    for j, image_file in enumerate(image_files):\n",
    "        img_path = os.path.join(subfolder, image_file)\n",
    "        img = load_img(img_path, target_size=(64, 64))\n",
    "        img_array = img_to_array(img) / 255.0 \n",
    "        \n",
    "        plt.subplot(len(subfolders), num_samples_per_class, i * num_samples_per_class + j + 1)\n",
    "        plt.imshow(img_array)\n",
    "        plt.title(class_name)\n",
    "        plt.axis('off')\n",
    "\n",
    "plt.tight_layout()\n",
    "plt.show()\n"
   ]
  },
  {
   "cell_type": "markdown",
   "id": "e44fd011",
   "metadata": {},
   "source": [
    "<h2>Preprocess Data</h2>"
   ]
  },
  {
   "cell_type": "code",
   "execution_count": null,
   "id": "5dad04d1-af9b-4c8e-99d8-108f3ae5fad4",
   "metadata": {},
   "outputs": [],
   "source": [
    "import os\n",
    "import cv2\n",
    "import numpy as np\n",
    "from sklearn.model_selection import train_test_split"
   ]
  },
  {
   "cell_type": "markdown",
   "id": "c0cea738-a2e4-492d-83b1-5373202fab15",
   "metadata": {},
   "source": [
    "* <b>Resize</b>"
   ]
  },
  {
   "cell_type": "code",
   "execution_count": null,
   "id": "736e4acc-093a-4264-a5b0-7f00c8b069a4",
   "metadata": {},
   "outputs": [],
   "source": [
    "# Specify input and output folders\n",
    "input_folder = './Data/flower_photos/daisy'\n",
    "output_folder = './Data/daisy_resize_64'\n",
    "\n",
    "# Specify target image size\n",
    "target_size = (64, 64)"
   ]
  },
  {
   "cell_type": "code",
   "execution_count": null,
   "id": "312bacfe-b42f-4f3d-a520-95de0dc83b0a",
   "metadata": {},
   "outputs": [],
   "source": [
    "# Function to resize\n",
    "def resize_images(input_folder, output_folder, target_size):\n",
    "    for filename in os.listdir(input_folder):\n",
    "        image_path = os.path.join(input_folder, filename)\n",
    "        \n",
    "        # Check if the image file exists\n",
    "        if not os.path.isfile(image_path):\n",
    "            print(f\"Skipping {filename}. File does not exist.\")\n",
    "            continue\n",
    "\n",
    "        img = cv2.imread(image_path)\n",
    "        \n",
    "        # Check if the image is loaded successfully\n",
    "        if img is None:\n",
    "            print(f\"Failed to load {filename}. Skipping.\")\n",
    "            continue\n",
    "        \n",
    "        # Resize and save the image\n",
    "        try:\n",
    "            img = cv2.resize(img, target_size)\n",
    "            cv2.imwrite(os.path.join(output_folder, filename), img)\n",
    "        except Exception as e:\n",
    "            print(f\"Error processing {filename}: {e}\")"
   ]
  },
  {
   "cell_type": "code",
   "execution_count": null,
   "id": "a338a27e-3aa0-4dd8-a42d-003d8cf8fae1",
   "metadata": {},
   "outputs": [],
   "source": [
    "# Call the function\n",
    "resize_images(input_folder, output_folder, target_size)\n"
   ]
  },
  {
   "cell_type": "markdown",
   "id": "c2aeefb6-1210-4c43-ad93-2e97354d1e56",
   "metadata": {},
   "source": [
    "* <b>Normalise</b>"
   ]
  },
  {
   "cell_type": "code",
   "execution_count": null,
   "id": "1fa87733-059c-4810-ad01-478fb428ecfc",
   "metadata": {},
   "outputs": [],
   "source": [
    "# Function to normalise\n",
    "def normalize_images(input_folder, output_folder):\n",
    "    for filename in os.listdir(input_folder):\n",
    "        image_path = os.path.join(input_folder, filename)\n",
    "        \n",
    "        if not os.path.isfile(image_path):\n",
    "            print(f\"Skipping {filename}. File does not exist.\")\n",
    "            continue\n",
    "\n",
    "        img = cv2.imread(image_path)\n",
    "        \n",
    "        if img is None:\n",
    "            print(f\"Failed to load {filename}. Skipping.\")\n",
    "            continue\n",
    "        \n",
    "        img = cv2.normalize(img, None, alpha=0, beta=1, norm_type=cv2.NORM_MINMAX, dtype=cv2.CV_32F)\n",
    "        cv2.imwrite(os.path.join(output_folder, filename), img * 255.0)\n"
   ]
  },
  {
   "cell_type": "code",
   "execution_count": null,
   "id": "a74d4cb0-c8f1-474d-bc51-c6ba1926fad6",
   "metadata": {},
   "outputs": [],
   "source": [
    "# Specify input and output folders\n",
    "input_folder = './Data/daisy_resize_64'\n",
    "output_folder = './Data/daisy_normalise'\n",
    "\n",
    "# Call the function\n",
    "normalize_images(input_folder, output_folder)"
   ]
  },
  {
   "cell_type": "markdown",
   "id": "30be4aa0-d5c4-4579-9049-dc4146933bce",
   "metadata": {},
   "source": [
    "* <b>Split Train-Test</b>"
   ]
  },
  {
   "cell_type": "code",
   "execution_count": null,
   "id": "d059b43e-5f19-4068-bfed-5844f0d72d7d",
   "metadata": {},
   "outputs": [],
   "source": [
    "input_folder = './Data/daisy_normalise'\n",
    "output_folder = './Data/daisy_normalise'"
   ]
  },
  {
   "cell_type": "code",
   "execution_count": null,
   "id": "de731864-54cf-4aca-802c-4b65c5084674",
   "metadata": {},
   "outputs": [],
   "source": [
    "# Function to split data into train, validation, and test sets\n",
    "def split_data(input_folder, output_folder, validation_split, test_split):\n",
    "    all_files = os.listdir(input_folder)\n",
    "    train_and_val_files, test_files = train_test_split(all_files, test_size=test_split)\n",
    "    train_files, val_files = train_test_split(train_and_val_files, test_size=validation_split / (1 - test_split))\n",
    "\n",
    "    os.makedirs(os.path.join(output_folder, 'train'), exist_ok=True)\n",
    "    os.makedirs(os.path.join(output_folder, 'validation'), exist_ok=True)\n",
    "    os.makedirs(os.path.join(output_folder, 'test'), exist_ok=True)\n",
    "\n",
    "    for filename in train_files:\n",
    "        os.rename(os.path.join(input_folder, filename), os.path.join(os.path.join(output_folder, 'train'), filename))\n",
    "    for filename in val_files:\n",
    "        os.rename(os.path.join(input_folder, filename), os.path.join(os.path.join(output_folder, 'validation'), filename))\n",
    "    for filename in test_files:\n",
    "        os.rename(os.path.join(input_folder, filename), os.path.join(os.path.join(output_folder, 'test'), filename))\n",
    "\n",
    "# Perform data preprocessing\n",
    "split_data(output_folder, output_folder, validation_split=0.1, test_split=0.1)\n"
   ]
  },
  {
   "cell_type": "markdown",
   "id": "29d983eb-da3f-4e2f-a58e-4e33d98f6fe1",
   "metadata": {},
   "source": [
    "* <b>Data Augmentation</b>"
   ]
  },
  {
   "cell_type": "markdown",
   "id": "8cbcb30c-a04b-4224-bbfe-0bd2e0e25082",
   "metadata": {},
   "source": [
    "<h2>Modeling</h2>"
   ]
  },
  {
   "cell_type": "code",
   "execution_count": null,
   "id": "4489cd46-bb0c-441c-989f-cf63bd9519f9",
   "metadata": {},
   "outputs": [],
   "source": [
    "import tensorflow as tf\n",
    "from tensorflow.keras.layers import Input, Conv2D, Dense, Reshape, Flatten, AveragePooling2D\n",
    "from tensorflow.keras.models import Model\n",
    "from tensorflow.keras.optimizers import Adam\n",
    "from tensorflow.keras import layers\n",
    "from tensorflow.keras.utils import to_categorical\n",
    "\n",
    "# Define constants\n",
    "latent_dim = 512\n",
    "image_size = 64"
   ]
  },
  {
   "cell_type": "markdown",
   "id": "59142768-1496-4a2e-88b0-fb1b444d3498",
   "metadata": {},
   "source": [
    "* <b>Generator</b>"
   ]
  },
  {
   "cell_type": "code",
   "execution_count": null,
   "id": "ff02eed1-c003-435a-9001-cbd7b270ea67",
   "metadata": {},
   "outputs": [],
   "source": [
    "# Generator\n",
    "def build_generator(latent_dim, image_size):\n",
    "    input_noise = Input(shape=(latent_dim,))\n",
    "    \n",
    "    x = Dense(4 * 4 * 512)(input_noise)\n",
    "    x = Reshape((4, 4, 512))(x)\n",
    "    \n",
    "    x = layers.UpSampling2D(size=(2, 2))(x)\n",
    "    x = layers.Conv2D(256, kernel_size=3, padding=\"same\")(x)\n",
    "    x = layers.BatchNormalization(momentum=0.8)(x)\n",
    "    x = layers.ReLU()(x)\n",
    "    \n",
    "    x = layers.UpSampling2D(size=(2, 2))(x)\n",
    "    x = layers.Conv2D(128, kernel_size=3, padding=\"same\")(x)\n",
    "    x = layers.BatchNormalization(momentum=0.8)(x)\n",
    "    x = layers.ReLU()(x)\n",
    "    \n",
    "    x = layers.UpSampling2D(size=(2, 2))(x)\n",
    "    x = layers.Conv2D(64, kernel_size=3, padding=\"same\")(x)\n",
    "    x = layers.BatchNormalization(momentum=0.8)(x)\n",
    "    x = layers.ReLU()(x)\n",
    "    \n",
    "    x = layers.UpSampling2D(size=(2, 2))(x)\n",
    "    x = layers.Conv2D(3, kernel_size=3, padding=\"same\")(x)  # Set the number of output channels to 3 for RGB images\n",
    "    output_image = layers.Activation(\"tanh\")(x)\n",
    "    \n",
    "    return Model(input_noise, output_image, name=\"tula_generator\")\n"
   ]
  },
  {
   "cell_type": "code",
   "execution_count": null,
   "id": "a0730742-1368-4920-9c27-c8898dbe255f",
   "metadata": {},
   "outputs": [],
   "source": [
    "# Build the generator\n",
    "generator = build_generator(latent_dim, image_size)\n",
    "generator.summary()"
   ]
  },
  {
   "cell_type": "markdown",
   "id": "d4fa0834-5e47-4574-8262-dff646a3946c",
   "metadata": {},
   "source": [
    "* <b>Discriminator</b>"
   ]
  },
  {
   "cell_type": "code",
   "execution_count": null,
   "id": "aeb33d81-1b78-4d19-95b3-07006beab8c7",
   "metadata": {},
   "outputs": [],
   "source": [
    "# Discriminator\n",
    "def build_discriminator(image_size):\n",
    "    input_image = Input(shape=(image_size, image_size, 3))\n",
    "    \n",
    "    x = layers.Conv2D(32, kernel_size=3, strides=2, padding=\"same\")(input_image)\n",
    "    x = layers.LeakyReLU(alpha=0.2)(x)\n",
    "    \n",
    "    x = layers.Conv2D(64, kernel_size=3, strides=2, padding=\"same\")(x)\n",
    "    x = layers.BatchNormalization(momentum=0.8)(x)\n",
    "    x = layers.LeakyReLU(alpha=0.2)(x)\n",
    "    \n",
    "    x = layers.Conv2D(128, kernel_size=3, strides=2, padding=\"same\")(x)\n",
    "    x = layers.BatchNormalization(momentum=0.8)(x)\n",
    "    x = layers.LeakyReLU(alpha=0.2)(x)\n",
    "    \n",
    "    x = layers.Conv2D(256, kernel_size=3, strides=2, padding=\"same\")(x)\n",
    "    x = layers.BatchNormalization(momentum=0.8)(x)\n",
    "    x = layers.LeakyReLU(alpha=0.2)(x)\n",
    "    \n",
    "    x = layers.Flatten()(x)\n",
    "    validity = layers.Dense(1, activation=\"sigmoid\")(x)\n",
    "    \n",
    "    return Model(input_image, validity, name=\"tula_discriminator\")\n",
    "\n",
    "# discriminator.summary()"
   ]
  },
  {
   "cell_type": "markdown",
   "id": "8e2065da-3f64-4b63-a6a4-b997bda3472f",
   "metadata": {},
   "source": [
    "<h3>Model Training</h3>"
   ]
  },
  {
   "cell_type": "code",
   "execution_count": null,
   "id": "a16331fb-0cbd-4e31-be95-e18abf2bf675",
   "metadata": {},
   "outputs": [],
   "source": [
    "image_height = 64\n",
    "image_width = 64\n",
    "num_channels = 3 "
   ]
  },
  {
   "cell_type": "code",
   "execution_count": null,
   "id": "10a0d68e-8489-4216-94aa-7409fd22b203",
   "metadata": {},
   "outputs": [],
   "source": [
    "# Define your GAN architecture (generator and discriminator)\n",
    "latent_dim = 100\n",
    "#image_size = (64, 64, 3) \n",
    "\n",
    "generator = build_generator(latent_dim, (image_height, image_width, num_channels))\n",
    "discriminator = build_discriminator(image_size)\n",
    "\n",
    "# Compile the discriminator\n",
    "discriminator.compile(loss='binary_crossentropy',\n",
    "                      optimizer=tf.keras.optimizers.Adam(learning_rate=0.0002, beta_1=0.5),\n",
    "                      metrics=['accuracy'])\n",
    "\n",
    "# Create the GAN by chaining the generator and discriminator\n",
    "discriminator.trainable = False  # Freeze the discriminator when training the GAN\n",
    "gan_input = tf.keras.layers.Input(shape=(latent_dim,))\n",
    "x = generator(gan_input)\n",
    "gan_output = discriminator(x)\n",
    "gan = tf.keras.models.Model(gan_input, gan_output)\n",
    "\n",
    "# Compile the GAN\n",
    "gan.compile(loss='binary_crossentropy',\n",
    "            optimizer=tf.keras.optimizers.Adam(learning_rate=0.0002, beta_1=0.5))\n"
   ]
  },
  {
   "cell_type": "code",
   "execution_count": null,
   "id": "cda8ee7d-7ac6-4cd5-90be-2a596d51ea58",
   "metadata": {},
   "outputs": [],
   "source": [
    "# Training parameters\n",
    "batch_size = 64\n",
    "epochs = 10000\n",
    "sample_interval = 200  \n",
    "\n",
    "# Training loop\n",
    "for epoch in range(epochs):\n",
    "    # Train the discriminator\n",
    "    idx = np.random.randint(0, train_images.shape[0], batch_size)\n",
    "    real_images = train_images[idx]\n",
    "\n",
    "    noise = np.random.normal(0, 1, (batch_size, latent_dim))\n",
    "    generated_images = generator.predict(noise)\n",
    "\n",
    "    real_labels = np.ones((batch_size, 1))\n",
    "    fake_labels = np.zeros((batch_size, 1))\n",
    "\n",
    "    d_loss_real = discriminator.train_on_batch(real_images, real_labels)\n",
    "    d_loss_fake = discriminator.train_on_batch(generated_images, fake_labels)\n",
    "    d_loss = 0.5 * np.add(d_loss_real, d_loss_fake)\n",
    "\n",
    "    # Train the generator\n",
    "    noise = np.random.normal(0, 1, (batch_size, latent_dim))\n",
    "    valid_labels = np.ones((batch_size, 1))\n",
    "    g_loss = gan.train_on_batch(noise, valid_labels)\n",
    "\n",
    "    # Print progress and save generated images at specified intervals\n",
    "    if epoch % sample_interval == 0:\n",
    "        print(f\"Epoch {epoch}, D Loss: {d_loss[0]}, G Loss: {g_loss}\")\n",
    "        # Generate and save sample images\n",
    "        save_generated_images(epoch, generator, save_dir=\"generated_images\")"
   ]
  },
  {
   "cell_type": "code",
   "execution_count": null,
   "id": "ea3fff93-dd58-44f9-ab4e-3db04dd1cc1e",
   "metadata": {},
   "outputs": [],
   "source": [
    "\n",
    "# After training, you can generate images using the trained generator:\n",
    "def generate_images(generator, latent_dim, num_images, save_dir):\n",
    "    noise = np.random.normal(0, 1, (num_images, latent_dim))\n",
    "    generated_images = generator.predict(noise)\n",
    "\n",
    "    for i in range(num_images):\n",
    "        image = generated_images[i]\n",
    "        image = (image + 1) * 127.5  # De-normalize\n",
    "        image = image.astype(np.uint8)\n",
    "        save_path = os.path.join(save_dir, f\"generated_image_{i}.png\")\n",
    "        cv2.imwrite(save_path, image)\n",
    "\n",
    "generate_images(generator, latent_dim, num_images=10, save_dir=\"generated_images\")\n"
   ]
  },
  {
   "cell_type": "markdown",
   "id": "637b9f52-4e72-4c9e-839f-ce84286823ee",
   "metadata": {},
   "source": [
    "* <b>Tula Archetecture</b>"
   ]
  },
  {
   "cell_type": "code",
   "execution_count": null,
   "id": "0c6c864a-ce9a-4bfc-8d67-ceeffd1ea97e",
   "metadata": {},
   "outputs": [],
   "source": [
    "tula_model.summary()"
   ]
  },
  {
   "cell_type": "code",
   "execution_count": null,
   "id": "f00e0926-2441-4cb9-8b2c-0bb92bf8d622",
   "metadata": {},
   "outputs": [],
   "source": [
    "# Generate random noise (replace this with your actual noise data)\n",
    "batch_size = 16  \n",
    "latent_dim = 100 \n",
    "noise = np.random.normal(0, 1, (batch_size, latent_dim))\n",
    "\n",
    "# Generate images using the generator\n",
    "generated_images = generator.predict(noise)"
   ]
  },
  {
   "cell_type": "code",
   "execution_count": null,
   "id": "40747f08-f12b-462d-873b-230c592c11a0",
   "metadata": {},
   "outputs": [],
   "source": [
    "# Create a grid to display multiple images\n",
    "rows = 4 \n",
    "cols = 4 \n",
    "\n",
    "# Set up the figure and axes\n",
    "fig, axs = plt.subplots(rows, cols)\n",
    "fig.subplots_adjust(hspace=0.5)\n",
    "\n",
    "# Display the generated images in the grid\n",
    "for i in range(rows):\n",
    "    for j in range(cols):\n",
    "        index = i * cols + j\n",
    "        if index < batch_size:\n",
    "            axs[i, j].imshow(generated_images[index])\n",
    "            axs[i, j].axis(\"off\")\n",
    "\n",
    "# Show the plot\n",
    "plt.show()"
   ]
  }
 ],
 "metadata": {
  "kernelspec": {
   "display_name": "tula_env",
   "language": "python",
   "name": "tula_env"
  },
  "language_info": {
   "codemirror_mode": {
    "name": "ipython",
    "version": 3
   },
   "file_extension": ".py",
   "mimetype": "text/x-python",
   "name": "python",
   "nbconvert_exporter": "python",
   "pygments_lexer": "ipython3",
   "version": "3.11.4"
  }
 },
 "nbformat": 4,
 "nbformat_minor": 5
}
